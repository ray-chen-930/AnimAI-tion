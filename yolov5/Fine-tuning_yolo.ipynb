{
 "cells": [
  {
   "cell_type": "code",
   "execution_count": null,
   "metadata": {},
   "outputs": [],
   "source": [
    "!git clone https://github.com/ray-chen-930/AnimAI-tion  # clone repo\n",
    "!pip install -qr yolov5/requirements.txt  # install dependencies (ignore errors)\n",
    "%cd AnimAI-tion/yolov5"
   ]
  },
  {
   "cell_type": "code",
   "execution_count": null,
   "metadata": {},
   "outputs": [],
   "source": [
    "! python train.py --img 640 --batch 16 --epochs 200 --data data/kon.yaml --cfg models/yolov5s.yaml --weights weights/yolov5s.pt --name yolov5s_kon"
   ]
  }
 ],
 "metadata": {
  "kernelspec": {
   "display_name": "Python 3",
   "language": "python",
   "name": "python3"
  },
  "language_info": {
   "codemirror_mode": {
    "name": "ipython",
    "version": 3
   },
   "file_extension": ".py",
   "mimetype": "text/x-python",
   "name": "python",
   "nbconvert_exporter": "python",
   "pygments_lexer": "ipython3",
   "version": "3.8.5"
  }
 },
 "nbformat": 4,
 "nbformat_minor": 4
}
