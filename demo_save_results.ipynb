{
 "cells": [
  {
   "cell_type": "code",
   "execution_count": 1,
   "metadata": {},
   "outputs": [
    {
     "name": "stderr",
     "output_type": "stream",
     "text": [
      "\n",
      "Bad key text.latex.unicode in file /home/ray/.local/lib/python3.6/site-packages/matplotlib/mpl-data/stylelib/_classic_test.mplstyle, line 112 ('text.latex.unicode : False # use \"ucs\" and \"inputenc\" LaTeX packages for handling')\n",
      "You probably need to get an updated matplotlibrc file from\n",
      "https://github.com/matplotlib/matplotlib/blob/v3.3.2/matplotlibrc.template\n",
      "or from the matplotlib source distribution\n",
      "\n",
      "Bad key savefig.frameon in file /home/ray/.local/lib/python3.6/site-packages/matplotlib/mpl-data/stylelib/_classic_test.mplstyle, line 423 ('savefig.frameon : True')\n",
      "You probably need to get an updated matplotlibrc file from\n",
      "https://github.com/matplotlib/matplotlib/blob/v3.3.2/matplotlibrc.template\n",
      "or from the matplotlib source distribution\n",
      "\n",
      "Bad key pgf.debug in file /home/ray/.local/lib/python3.6/site-packages/matplotlib/mpl-data/stylelib/_classic_test.mplstyle, line 444 ('pgf.debug           : False')\n",
      "You probably need to get an updated matplotlibrc file from\n",
      "https://github.com/matplotlib/matplotlib/blob/v3.3.2/matplotlibrc.template\n",
      "or from the matplotlib source distribution\n",
      "\n",
      "Bad key verbose.level in file /home/ray/.local/lib/python3.6/site-packages/matplotlib/mpl-data/stylelib/_classic_test.mplstyle, line 475 ('verbose.level  : silent      # one of silent, helpful, debug, debug-annoying')\n",
      "You probably need to get an updated matplotlibrc file from\n",
      "https://github.com/matplotlib/matplotlib/blob/v3.3.2/matplotlibrc.template\n",
      "or from the matplotlib source distribution\n",
      "\n",
      "Bad key verbose.fileo in file /home/ray/.local/lib/python3.6/site-packages/matplotlib/mpl-data/stylelib/_classic_test.mplstyle, line 476 ('verbose.fileo  : sys.stdout  # a log filename, sys.stdout or sys.stderr')\n",
      "You probably need to get an updated matplotlibrc file from\n",
      "https://github.com/matplotlib/matplotlib/blob/v3.3.2/matplotlibrc.template\n",
      "or from the matplotlib source distribution\n",
      "In /home/ray/.local/lib/python3.6/site-packages/matplotlib/mpl-data/stylelib/_classic_test.mplstyle: \n",
      "The text.latex.preview rcparam was deprecated in Matplotlib 3.3 and will be removed two minor releases later.\n",
      "In /home/ray/.local/lib/python3.6/site-packages/matplotlib/mpl-data/stylelib/_classic_test.mplstyle: \n",
      "The mathtext.fallback_to_cm rcparam was deprecated in Matplotlib 3.3 and will be removed two minor releases later.\n",
      "In /home/ray/.local/lib/python3.6/site-packages/matplotlib/mpl-data/stylelib/_classic_test.mplstyle: Support for setting the 'mathtext.fallback_to_cm' rcParam is deprecated since 3.3 and will be removed two minor releases later; use 'mathtext.fallback : 'cm' instead.\n",
      "In /home/ray/.local/lib/python3.6/site-packages/matplotlib/mpl-data/stylelib/_classic_test.mplstyle: \n",
      "The validate_bool_maybe_none function was deprecated in Matplotlib 3.3 and will be removed two minor releases later.\n",
      "In /home/ray/.local/lib/python3.6/site-packages/matplotlib/mpl-data/stylelib/_classic_test.mplstyle: \n",
      "The savefig.jpeg_quality rcparam was deprecated in Matplotlib 3.3 and will be removed two minor releases later.\n",
      "In /home/ray/.local/lib/python3.6/site-packages/matplotlib/mpl-data/stylelib/_classic_test.mplstyle: \n",
      "The keymap.all_axes rcparam was deprecated in Matplotlib 3.3 and will be removed two minor releases later.\n",
      "In /home/ray/.local/lib/python3.6/site-packages/matplotlib/mpl-data/stylelib/_classic_test.mplstyle: \n",
      "The animation.avconv_path rcparam was deprecated in Matplotlib 3.3 and will be removed two minor releases later.\n",
      "In /home/ray/.local/lib/python3.6/site-packages/matplotlib/mpl-data/stylelib/_classic_test.mplstyle: \n",
      "The animation.avconv_args rcparam was deprecated in Matplotlib 3.3 and will be removed two minor releases later.\n"
     ]
    }
   ],
   "source": [
    "import imageio\n",
    "import numpy as np\n",
    "import matplotlib.pyplot as plt\n",
    "import matplotlib.animation as animation\n",
    "from skimage.transform import resize\n",
    "from IPython.display import HTML\n",
    "import warnings\n",
    "warnings.filterwarnings(\"ignore\")\n",
    "\n",
    "source_image = imageio.imread('data/ds_pic/gen2_revised.png')\n",
    "\n",
    "driving_video = imageio.mimread('data/kon_ep1_mid_175.mp4')\n",
    "\n",
    "#Resize image and video to 256x256\n",
    "\n",
    "source_image = resize(source_image, (256, 256))[..., :3]\n",
    "driving_video = [resize(frame, (256, 256))[..., :3] for frame in driving_video]\n",
    "\n",
    "def display(source, driving, orig=None, generated=None, compared=None, ep=None, clip=None, save=True):\n",
    "    fig = plt.figure(figsize=(8 + 4 * (orig is not None) + 4 * (generated is not None) + 4 * (compared is not None), 6))\n",
    "\n",
    "    ims = []\n",
    "    for i in range(len(driving)):\n",
    "        cols = [source]\n",
    "        cols.append(driving[i])\n",
    "        title = 'Source image, Kon{0}_{1}'.format(ep, clip)\n",
    "        if orig is not None:\n",
    "            cols.append(orig[i])\n",
    "            title += ', celeb chkpt'\n",
    "        if generated is not None:\n",
    "            cols.append(generated[i])\n",
    "            title += ', kon1 chkpt'\n",
    "        if compared is not None:\n",
    "            cols.append(compared[i])\n",
    "            title += ', kon1_5 chkpt'\n",
    "        im = plt.imshow(np.concatenate(cols, axis=1), animated=True)\n",
    "        plt.axis('off')        \n",
    "        plt.title(title)\n",
    "        ims.append([im])\n",
    "\n",
    "    ani = animation.ArtistAnimation(fig, ims, interval=50, repeat_delay=1000)\n",
    "    if save:\n",
    "        ani.save('kon{0}_{1}.mp4'.format(ep, clip))\n",
    "    plt.close()\n",
    "    return ani"
   ]
  },
  {
   "cell_type": "code",
   "execution_count": 2,
   "metadata": {},
   "outputs": [],
   "source": [
    "from Fomm.demo import load_checkpoints\n",
    "from Fomm.demo import make_animation\n",
    "from skimage import img_as_ubyte\n",
    "\n",
    "celeb_gen, celeb_kp_det = load_checkpoints(config_path='config/vox-256.yaml', \n",
    "                            checkpoint_path='data/vox-cpk.pth.tar')\n",
    "\n",
    "gen_k1, kp_det_k1 = load_checkpoints(config_path='config/kon_ep1_ray_v1.yaml', \n",
    "                            checkpoint_path='log/kon_ep1_ray_v1 01_10_20_19.34.05/00000149-checkpoint.pth.tar')\n",
    "\n",
    "\n",
    "gen_k1_5, kp_det_k1_5 = load_checkpoints(config_path='config/kon_ep1_ray_v1.yaml', \n",
    "                            checkpoint_path='log/kon1-5_sq_crop 05_10_20_21.07.58/00000049-checkpoint.pth.tar')"
   ]
  },
  {
   "cell_type": "code",
   "execution_count": null,
   "metadata": {
    "scrolled": true
   },
   "outputs": [],
   "source": [
    "driving_video = imageio.mimread(\n",
    "    'kon_ep1_mid_175.mp4')\n",
    "driving_video = [resize(frame, (256, 256))[..., :3] for frame in driving_video]\n",
    "\n",
    "orig_pred = make_animation(source_image, driving_video, celeb_gen, celeb_kp_det, relative=True)\n",
    "pred_k1 = make_animation(source_image, driving_video, gen_k1, kp_det_k1, relative=True)\n",
    "pred_k1_5 = make_animation(source_image, driving_video, gen_k1_5, kp_det_k1_5, relative=True)\\"
   ]
  },
  {
   "cell_type": "code",
   "execution_count": null,
   "metadata": {
    "scrolled": true
   },
   "outputs": [],
   "source": [
    "HTML(display(source_image, driving_video, orig_pred, pred_k1,\n",
    "             pred_k1_5, ep=1, clip=175).to_html5_video())"
   ]
  },
  {
   "cell_type": "code",
   "execution_count": 9,
   "metadata": {},
   "outputs": [],
   "source": [
    "## list of vids to animate for\n",
    "\n",
    "clip_list = [155, 10, 100, 102, 104, 110, 112, 113, 114, 119, 12, 13, 131, 132, 133, 136, 14, 140, 143, 144,\n",
    "             145, 147, 149, 15, 150, 154, 156, 159, 16, 160, 161, 163, 164, 167, 17, 170, 171, 174, 175, 176,\n",
    "             179, 183, 185, 186, 19, 190, 191, 192, 193, 194, 198, 199, 21, 23, 28, 29, 3, 31, 36, 37, 39,\n",
    "            44, 45, 47, 51, 52, 53, 54, 55, 56, 59, 6, 60, 61, 65, 66, 67, 7, 72, 74, 75, 77, 79, 8, 80, 81,\n",
    "            82, 83, 84, 86, 87, 88, 90, 91, 92, 93, 94, 95, 96, 97]"
   ]
  },
  {
   "cell_type": "code",
   "execution_count": 6,
   "metadata": {},
   "outputs": [],
   "source": [
    "def get_save_result(clip_num, ep_num):\n",
    "    driving_video = imageio.mimread(\n",
    "    'kon_{0}/clips/kon{0}_traj{1}.mp4'.format(ep_num, clip_num))\n",
    "    driving_video = [resize(frame, (256, 256))[..., :3] for frame in driving_video]\n",
    "\n",
    "    orig_pred = make_animation(source_image, driving_video, celeb_gen, celeb_kp_det, relative=True)\n",
    "    pred_k1 = make_animation(source_image, driving_video, gen_k1, kp_det_k1, relative=True)\n",
    "    pred_k1_5 = make_animation(source_image, driving_video, gen_k1_5, kp_det_k1_5, relative=True)\n",
    "\n",
    "    HTML(display(source_image, driving_video, orig_pred, pred_k1,\n",
    "                 pred_k1_5, ep=ep_num, clip=clip_num).to_html5_video())"
   ]
  },
  {
   "cell_type": "code",
   "execution_count": null,
   "metadata": {},
   "outputs": [
    {
     "name": "stderr",
     "output_type": "stream",
     "text": [
      "100%|██████████| 146/146 [00:03<00:00, 39.67it/s]\n",
      "100%|██████████| 146/146 [00:03<00:00, 39.34it/s]\n",
      "100%|██████████| 146/146 [00:03<00:00, 40.15it/s]\n",
      "100%|██████████| 81/81 [00:02<00:00, 39.17it/s]\n",
      "100%|██████████| 81/81 [00:02<00:00, 40.31it/s]\n",
      "100%|██████████| 81/81 [00:02<00:00, 40.37it/s]\n",
      "100%|██████████| 161/161 [00:04<00:00, 39.28it/s]\n",
      "100%|██████████| 161/161 [00:04<00:00, 39.92it/s]\n",
      "100%|██████████| 161/161 [00:04<00:00, 39.87it/s]\n"
     ]
    }
   ],
   "source": [
    "for i in clip_list:\n",
    "    get_save_result(i, 2)"
   ]
  },
  {
   "cell_type": "code",
   "execution_count": null,
   "metadata": {},
   "outputs": [],
   "source": []
  },
  {
   "cell_type": "code",
   "execution_count": null,
   "metadata": {},
   "outputs": [],
   "source": []
  },
  {
   "cell_type": "code",
   "execution_count": null,
   "metadata": {},
   "outputs": [],
   "source": []
  },
  {
   "cell_type": "code",
   "execution_count": null,
   "metadata": {},
   "outputs": [],
   "source": []
  },
  {
   "cell_type": "code",
   "execution_count": null,
   "metadata": {},
   "outputs": [],
   "source": []
  },
  {
   "cell_type": "code",
   "execution_count": null,
   "metadata": {},
   "outputs": [],
   "source": []
  },
  {
   "cell_type": "code",
   "execution_count": null,
   "metadata": {},
   "outputs": [],
   "source": []
  }
 ],
 "metadata": {
  "kernelspec": {
   "display_name": "Python 3",
   "language": "python",
   "name": "python3"
  },
  "language_info": {
   "codemirror_mode": {
    "name": "ipython",
    "version": 3
   },
   "file_extension": ".py",
   "mimetype": "text/x-python",
   "name": "python",
   "nbconvert_exporter": "python",
   "pygments_lexer": "ipython3",
   "version": "3.8.3"
  }
 },
 "nbformat": 4,
 "nbformat_minor": 4
}
