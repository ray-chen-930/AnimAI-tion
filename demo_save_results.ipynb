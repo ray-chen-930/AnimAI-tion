{
 "cells": [
  {
   "cell_type": "code",
   "execution_count": null,
   "metadata": {},
   "outputs": [],
   "source": [
    "import imageio\n",
    "import numpy as np\n",
    "import matplotlib.pyplot as plt\n",
    "import matplotlib.animation as animation\n",
    "from skimage.transform import resize\n",
    "from IPython.display import HTML\n",
    "import warnings\n",
    "warnings.filterwarnings(\"ignore\")\n",
    "\n",
    "source_im_path = 'insert your image path here'\n",
    "driving_video_path = 'insert your video path here'\n",
    "\n",
    "source_image = imageio.imread(source_im_path)\n",
    "driving_video = imageio.mimread(driving_video_path)\n",
    "\n",
    "#Resize image and video to 256x256\n",
    "\n",
    "source_image = resize(source_image, (256, 256))[..., :3]\n",
    "driving_video = [resize(frame, (256, 256))[..., :3] for frame in driving_video]\n",
    "\n",
    "def display(source, driving, orig=None, generated=None, compared=None, ep=None, clip=None, save=True):\n",
    "    fig = plt.figure(figsize=(8 + 4 * (orig is not None) + 4 * (generated is not None) + 4 * (compared is not None), 6))\n",
    "\n",
    "    ims = []\n",
    "    for i in range(len(driving)):\n",
    "        cols = [source]\n",
    "        cols.append(driving[i])\n",
    "        title = 'Source image, Kon{0}_{1}'.format(ep, clip)\n",
    "        if orig is not None:\n",
    "            cols.append(orig[i])\n",
    "            title += ', celeb chkpt'\n",
    "        if generated is not None:\n",
    "            cols.append(generated[i])\n",
    "            title += ', kon1 chkpt'\n",
    "        if compared is not None:\n",
    "            cols.append(compared[i])\n",
    "            title += ', kon1_5 chkpt'\n",
    "        im = plt.imshow(np.concatenate(cols, axis=1), animated=True)\n",
    "        plt.axis('off')        \n",
    "        plt.title(title)\n",
    "        ims.append([im])\n",
    "\n",
    "    ani = animation.ArtistAnimation(fig, ims, interval=50, repeat_delay=1000)\n",
    "    if save:\n",
    "        ani.save('kon{0}_{1}.mp4'.format(ep, clip))\n",
    "    plt.close()\n",
    "    return ani"
   ]
  },
  {
   "cell_type": "code",
   "execution_count": null,
   "metadata": {},
   "outputs": [],
   "source": [
    "from Fomm.demo import load_checkpoints\n",
    "from Fomm.demo import make_animation\n",
    "from skimage import img_as_ubyte\n",
    "\n",
    "celeb_gen, celeb_kp_det = load_checkpoints(config_path='config/vox-256.yaml', \n",
    "                            checkpoint_path='data/vox-cpk.pth.tar')\n",
    "\n",
    "gen_k1, kp_det_k1 = load_checkpoints(config_path='config/kon_ep1_ray_v1.yaml', \n",
    "                            checkpoint_path='weights/kon1-checkpoint.pth.tar')\n",
    "\n",
    "gen_k1_5, kp_det_k1_5 = load_checkpoints(config_path='config/kon_ep1_ray_v1.yaml', \n",
    "                            checkpoint_path='weights/kon1-checkpoint.pth.tar')"
   ]
  },
  {
   "cell_type": "code",
   "execution_count": null,
   "metadata": {
    "scrolled": true
   },
   "outputs": [],
   "source": [
    "orig_pred = make_animation(source_image, driving_video, celeb_gen, celeb_kp_det, relative=True)\n",
    "pred_k1 = make_animation(source_image, driving_video, gen_k1, kp_det_k1, relative=True)\n",
    "pred_k1_5 = make_animation(source_image, driving_video, gen_k1_5, kp_det_k1_5, relative=True)\\"
   ]
  },
  {
   "cell_type": "code",
   "execution_count": null,
   "metadata": {
    "scrolled": true
   },
   "outputs": [],
   "source": [
    "HTML(display(source_image, driving_video, orig_pred, pred_k1,\n",
    "             pred_k1_5).to_html5_video())"
   ]
  }
 ],
 "metadata": {
  "kernelspec": {
   "display_name": "Python 3",
   "language": "python",
   "name": "python3"
  },
  "language_info": {
   "codemirror_mode": {
    "name": "ipython",
    "version": 3
   },
   "file_extension": ".py",
   "mimetype": "text/x-python",
   "name": "python",
   "nbconvert_exporter": "python",
   "pygments_lexer": "ipython3",
   "version": "3.8.3"
  }
 },
 "nbformat": 4,
 "nbformat_minor": 4
}
